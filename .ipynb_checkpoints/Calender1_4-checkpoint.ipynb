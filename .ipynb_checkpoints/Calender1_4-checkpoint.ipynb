{
 "cells": [
  {
   "cell_type": "code",
   "execution_count": null,
   "metadata": {},
   "outputs": [],
   "source": [
    "# https://adventofcode.com/\n",
    "\n",
    "import pandas as pd\n",
    "import numpy as np\n",
    "import re\n",
    "import string"
   ]
  },
  {
   "cell_type": "code",
   "execution_count": 3,
   "metadata": {},
   "outputs": [
    {
     "name": "stdout",
     "output_type": "stream",
     "text": [
      "1016131\n",
      "276432018\n",
      "276432018\n"
     ]
    }
   ],
   "source": [
    "# 1/12 part 1\n",
    "text = np.array(pd.read_csv(\"input.txt\" , sep=\" \", header=None)[0])\n",
    "text_big = np.sort(text[text>2020/2])\n",
    "text_small = np.sort(text[text<=2020/2])\n",
    "\n",
    "for j in text_small:\n",
    "    a = text_big[text_big+j==2020]\n",
    "    if sum(a)>0:\n",
    "        print(a[0]*j)\n",
    "        break\n",
    "# 1/12 part 2\n",
    "text_b3 = np.sort(text[text>2020/3])\n",
    "text_s3 = np.sort(text[text<=2020/3])\n",
    "\n",
    "for j in text_s3:\n",
    "    for i in text_b3:\n",
    "        a = text_b3[text_b3+j+i==2020]\n",
    "        if sum(a)>0:\n",
    "            print(a[0]*j)\n",
    "            break\n",
    "        b = text_s3[text_s3+j+i==2020]\n",
    "        if sum(b)>0:\n",
    "            print(b[0]*j*i)\n",
    "            break\n"
   ]
  },
  {
   "cell_type": "code",
   "execution_count": 132,
   "metadata": {},
   "outputs": [
    {
     "name": "stdout",
     "output_type": "stream",
     "text": [
      "469\n"
     ]
    },
    {
     "data": {
      "text/plain": [
       "267"
      ]
     },
     "execution_count": 132,
     "metadata": {},
     "output_type": "execute_result"
    }
   ],
   "source": [
    "# --- Day 2: Password Philosophy --- part 1\n",
    "my_cols = ['min#','max#', 'letter','3','pass']\n",
    "text = pd.read_csv(\"input2.txt\", names=my_cols , sep=\"\\s+|-|' '|:\", header=None, engine=\"python\").drop(['3'], axis = 1)\n",
    "\n",
    "def checker(row):\n",
    "    if (row[3].count(row[2])<= row[1]) & (row[3].count(row[2])>= row[0]):\n",
    "        return True\n",
    "    else:\n",
    "        return False\n",
    "print(text.apply(checker, axis=1).sum())\n",
    "\n",
    "# --- Day 2: Password Philosophy --- part 2\n",
    "def checker_2(row):\n",
    "    if (row[3][row[0]-1]==row[2]) & (row[3][row[1]-1]==row[2]):\n",
    "        return False\n",
    "    elif (row[3][row[0]-1]==row[2]) | (row[3][row[1]-1]==row[2]):\n",
    "        return True\n",
    "    else:\n",
    "        return False\n",
    "text.apply(checker_2, axis=1).sum()"
   ]
  },
  {
   "cell_type": "code",
   "execution_count": 19,
   "metadata": {
    "scrolled": true
   },
   "outputs": [
    {
     "name": "stdout",
     "output_type": "stream",
     "text": [
      "299\n",
      "3621285278\n"
     ]
    }
   ],
   "source": [
    "#--- Day 3: Toboggan Trajectory --- part 1\n",
    "text = pd.read_csv(\"input3.txt\" , sep=\" \", header=None)\n",
    "\n",
    "def tree_counter(string):\n",
    "    if string=='#':\n",
    "        return 1\n",
    "    else:\n",
    "        return 0\n",
    "\n",
    "def slopes(right,down):\n",
    "    trees = 0\n",
    "    j = 0\n",
    "    for i in range(0,len(text),down):\n",
    "        trees += tree_counter(text.iloc[i,0][j])\n",
    "        j += right\n",
    "        j = j % len(text.iloc[i,0])\n",
    "    return trees\n",
    "\n",
    "print(slopes(3,1))\n",
    "\n",
    "#--- Day 3: Toboggan Trajectory --- part 2\n",
    "print(slopes(1,1)*slopes(3,1)*slopes(5,1)*slopes(7,1)*slopes(1,2))"
   ]
  },
  {
   "cell_type": "code",
   "execution_count": 2,
   "metadata": {},
   "outputs": [
    {
     "name": "stdout",
     "output_type": "stream",
     "text": [
      "255\n"
     ]
    }
   ],
   "source": [
    "#--- Day 4: Passport Processing ---\n",
    "with open('input4.txt') as myfile:\n",
    "    text=myfile.read()\n",
    "    result = text.split('\\n\\n') \n",
    "code = ['byr','iyr','eyr','hgt','hcl','ecl','pid']\n",
    "\n",
    "def passport(result, code):\n",
    "    counter2 = 0\n",
    "    for line in result:\n",
    "        counter1 = 0\n",
    "        for c in code:\n",
    "            counter1 += 1 if c in line else 0\n",
    "        if counter1 == len(code):\n",
    "            counter2 += 1\n",
    "    return counter2\n",
    "\n",
    "# Part 1\n",
    "print(passport(result, code[:-1]))\n"
   ]
  },
  {
   "cell_type": "code",
   "execution_count": null,
   "metadata": {},
   "outputs": [],
   "source": [
    "extra = {'byr':range(1920, 2002),'iyr':list(range(2010, 2020)),'eyr':range(2020, 2030),'hgtcm':list(range(150, 193)),\n",
    "         'hgtin': range(59, 76),'hcl':{'a','b','c','d','e','f','g',1,2,3,4,5,6,7,8,9},\n",
    "         'ecl':['amb', 'blu', 'brn', 'gry', 'grn', 'hzl', 'oth'],'pid':range(0, 999999999)}\n",
    "\n",
    "def passport_adv(result, code, extra):\n",
    "    counter2 = 0\n",
    "    for line in result:\n",
    "        print(line)\n",
    "        counter1 = 0\n",
    "        \n",
    "        for c in code:\n",
    "            print(c)\n",
    "            \n",
    "            f = line.find(c)\n",
    "            l = line[f:].find(' ')\n",
    "            \n",
    "            print(line[f:f+l])\n",
    "            \n",
    "            if (c != 'hgt') & (c != 'hcl'):\n",
    "                \n",
    "                counter1 += 1 if line[f:f+l] in extra[c] else 0\n",
    "                \n",
    "            elif c == 'hgt':\n",
    "                \n",
    "                if 'cm' in line[f:f+l]:\n",
    "                    l = line[f:f+l].find('cm')\n",
    "                    c = c + 'cm'       \n",
    "                    \n",
    "                elif 'in' in line[f:f+l]:\n",
    "                    l = line[f:f+l].find('in')\n",
    "                    c = c + 'in'\n",
    "                    \n",
    "                counter1 += 1 if line[f:f+l] in extra[c] else 0\n",
    "                \n",
    "            elif (c == 'hcl') & (line[f+3]=='#'):\n",
    "                hcl_count = 0\n",
    "                for i in line[f+4,10]:\n",
    "                    hcl_count += 1\n",
    "                counter1 += 1 if hcl_count==6 else 0\n",
    "            else:\n",
    "                break\n",
    "                \n",
    "        if counter1 == len(code):\n",
    "            \n",
    "            counter2 += 1\n",
    "            \n",
    "    return counter2\n",
    "\n",
    "\n",
    "# Part 2\n",
    "print(passport_adv(result, code, extra))\n"
   ]
  },
  {
   "cell_type": "code",
   "execution_count": 34,
   "metadata": {},
   "outputs": [
    {
     "ename": "SyntaxError",
     "evalue": "unexpected EOF while parsing (<ipython-input-34-bb3e1ce74f09>, line 3)",
     "output_type": "error",
     "traceback": [
      "\u001b[0;36m  File \u001b[0;32m\"<ipython-input-34-bb3e1ce74f09>\"\u001b[0;36m, line \u001b[0;32m3\u001b[0m\n\u001b[0;31m    regex.findall(#string)\u001b[0m\n\u001b[0m                          ^\u001b[0m\n\u001b[0;31mSyntaxError\u001b[0m\u001b[0;31m:\u001b[0m unexpected EOF while parsing\n"
     ]
    }
   ],
   "source": [
    "regex = re.compile('he ..')\n",
    "#string = 'The quick brown fox, the cat in the (hat) and the dog in the pound. The Cat in THE (hat):'\n",
    "regex.findall(#string)"
   ]
  },
  {
   "cell_type": "code",
   "execution_count": 21,
   "metadata": {},
   "outputs": [
    {
     "data": {
      "text/plain": [
       "{2, 'a'}"
      ]
     },
     "execution_count": 21,
     "metadata": {},
     "output_type": "execute_result"
    }
   ],
   "source": [
    "{'a',2}"
   ]
  },
  {
   "cell_type": "code",
   "execution_count": 63,
   "metadata": {},
   "outputs": [],
   "source": [
    "code = ['byr','iyr','eyr','hgt','hcl','ecl','pid']\n",
    "code.remove('hgt')\n",
    "code.remove('hcl')"
   ]
  }
 ],
 "metadata": {
  "kernelspec": {
   "display_name": "Python 3",
   "language": "python",
   "name": "python3"
  },
  "language_info": {
   "codemirror_mode": {
    "name": "ipython",
    "version": 3
   },
   "file_extension": ".py",
   "mimetype": "text/x-python",
   "name": "python",
   "nbconvert_exporter": "python",
   "pygments_lexer": "ipython3",
   "version": "3.8.5"
  }
 },
 "nbformat": 4,
 "nbformat_minor": 4
}
